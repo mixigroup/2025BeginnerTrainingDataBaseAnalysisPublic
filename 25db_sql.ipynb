{
  "cells": [
    {
      "cell_type": "markdown",
      "metadata": {
        "id": "Z-wi6L8E9XSz"
      },
      "source": [
        "# 25新卒データベース研修: SQL演習\n",
        "\n",
        "Google Colaboratory（通称Colab）を利用すると Python のスクリプトを対話的に実行した結果をNotebookという形式でまとめることができます。  \n",
        "ここではGoogleのBigQueryというサービスを利用してSQLの使い方を学んでいきます。\n",
        "\n",
        "```\n",
        "【注意】新型コロナウイルスに関係するオープンデータを取り扱っています。\n",
        "新型コロナウイルスについては、必ず1次情報として厚生労働省や首相官邸のウェブサイトなど公的機関で発表されている情報をご確認ください。\n",
        "```"
      ]
    },
    {
      "cell_type": "markdown",
      "metadata": {
        "id": "18qYxtd8KmjW"
      },
      "source": [
        "## 目次\n",
        "\n",
        "1. はじめの準備\n",
        "2. データの取得\n",
        "3. データの操作\n",
        "4. 集計\n",
        "5. 条件式\n",
        "6. 集合操作\n",
        "7. インデックス\n",
        "8. 【応用】分析関数（ウィンドウ関数）\n",
        "9. 片付け"
      ]
    },
    {
      "cell_type": "markdown",
      "metadata": {
        "id": "VgyMf9gmf88Y"
      },
      "source": [
        "## はじめの準備\n",
        "\n",
        "1. https://colab.research.google.com にアクセスします。\n",
        "2. 左上のメニューバーから「ファイル」「ノートブックを開く」を選択します。（最初から選択された状態になっている場合もあります）\n",
        "3. 「GitHub」を選択します。\n",
        "4. GitHub URLとして以下の演習用URLを入力します: `https://github.com/mixigroup/2025BeginnerTrainingDataBaseAnalysisPublic/blob/main/25db_sql.ipynb`\n",
        "5. 「25新卒データベース研修: SQL演習」と書かれたノートブック（本ノートブック）が開けたら「ドライブにコピーを保存」を押すことでログイン中のGoogleアカウントのGoogleドライブにコピーを保存できます。"
      ]
    },
    {
      "cell_type": "markdown",
      "metadata": {
        "id": "BB_IX1W1KgDs"
      },
      "source": [
        "### Google Cloud SDK設定\n",
        "\n",
        "最初にBigQueryを利用するための環境を構築していきます。まずはGoogleアカウントのOAuthトークンを取得しノートブック上でGoogle Cloud SDKを利用できるようにします。\n",
        "\n",
        "認証の流れ\n",
        "\n",
        "- 下記のスクリプトを実行する（Shift + Enter）\n",
        "- 表示されるURLをブラウザで開きColaboratoryによるアクセスを許可\n",
        "- 英数字と記号からなるトークン文字列をコピー\n",
        "- URLの下に入力されている入力ボックスにトークン文字列をペーストしてEnter\n",
        "\n",
        "まずは下記のセルを実行してみましょう。\n",
        "セルのコードを実行するには、セルをクリックして選択し、コードの左側にある実行ボタンをクリックするか、キーボード ショートカット「command+return」または「Ctrl+Enter」を使用します。\n",
        "\n"
      ]
    },
    {
      "cell_type": "code",
      "execution_count": null,
      "metadata": {
        "id": "xpULCiLu9IKb"
      },
      "outputs": [],
      "source": [
        "#\n",
        "# OAuth認証\n",
        "#\n",
        "from google.colab import auth\n",
        "auth.authenticate_user()"
      ]
    },
    {
      "cell_type": "markdown",
      "metadata": {
        "id": "upi2hbGjkeh8"
      },
      "source": [
        "`!`（びっくりマーク）で始まる行はシェルコマンドとして取り扱われます。\n",
        "\n",
        "gcloud コマンドを使って認証情報が設定できたか確認していきます。"
      ]
    },
    {
      "cell_type": "code",
      "execution_count": null,
      "metadata": {
        "id": "3mjIyzGWDeQS"
      },
      "outputs": [],
      "source": [
        "# このセルの実行結果に自分のメールアドレスが表示されたら準備完了です\n",
        "! gcloud auth list"
      ]
    },
    {
      "cell_type": "markdown",
      "metadata": {
        "id": "AcOP5gmxmMIC"
      },
      "source": [
        "Google Cloud SDKの設定を確認できたら安全のためブラウザのトークンが表示されているタブを閉じておきましょう。"
      ]
    },
    {
      "cell_type": "markdown",
      "metadata": {
        "id": "-aYYRIbED1qh"
      },
      "source": [
        "### 演習用のGoogle Cloudプロジェクト作成\n",
        "\n",
        "Google Cloudに限らずクラウドサービスでは無料枠が提供されていることがあります。クラウドサービスのコスト感を掴むには実際に触ってみるのが手っ取り早いです。基本的にはクラウドサービス側の思惑で料金が決まっているので触ってみると思っているより安かったり高かったりすることがあります。\n",
        "\n",
        "BigQueryの場合、サンドボックスというオプションが無料枠に相当します。これを利用するための演習用のGoogle Cloudプロジェクトを作成してみましょう。"
      ]
    },
    {
      "cell_type": "markdown",
      "metadata": {
        "id": "C8_qzlKvzhS9"
      },
      "source": [
        "ここで作成するGCPプロジェクトのIDは下記のセルを実行することで取得できます。"
      ]
    },
    {
      "cell_type": "code",
      "execution_count": null,
      "metadata": {
        "colab": {
          "base_uri": "https://localhost:8080/",
          "height": 35
        },
        "id": "Gi97T4kn8stY",
        "outputId": "a0a49aed-aeec-4d40-c393-05a8b611fba3"
      },
      "outputs": [
        {
          "data": {
            "application/vnd.google.colaboratory.intrinsic+json": {
              "type": "string"
            },
            "text/plain": [
              "'db-training-987bb946'"
            ]
          },
          "execution_count": 3,
          "metadata": {},
          "output_type": "execute_result"
        }
      ],
      "source": [
        "import uuid\n",
        "PROJECT_ID=f'db-training-{str(uuid.uuid4())[:8]}'\n",
        "\n",
        "PROJECT_ID"
      ]
    },
    {
      "cell_type": "markdown",
      "metadata": {
        "id": "6eRXYtOJmBKJ"
      },
      "source": [
        "下記のセルを実行すると、GCPプロジェクトを作成できます。  \n",
        "波括弧で囲まれた文字列はPythonの式として評価されるため、`{PROJECT_ID}` には上記で取得したプロジェクトIDが入ります。"
      ]
    },
    {
      "cell_type": "code",
      "execution_count": null,
      "metadata": {
        "id": "1805qjU-EDDv"
      },
      "outputs": [],
      "source": [
        "! gcloud projects create {PROJECT_ID}"
      ]
    },
    {
      "cell_type": "markdown",
      "metadata": {
        "id": "x0sK-orJMFKG"
      },
      "source": [
        "Google Cloud 上のBigQueryコンソールから実行したい人は、下記のコマンドを実行した後のURLをブラウザにコピー&ペーストして、問題に取り組んでみてください"
      ]
    },
    {
      "cell_type": "code",
      "execution_count": null,
      "metadata": {
        "id": "IFLcxlmxMGLB"
      },
      "outputs": [],
      "source": [
        "f'https://console.cloud.google.com/bigquery?project={PROJECT_ID}'"
      ]
    },
    {
      "cell_type": "markdown",
      "metadata": {
        "id": "CuEcZvsfIfUz"
      },
      "source": [
        "### ColabでBigQueryを使ってみる\n",
        "\n",
        "\n",
        "\n",
        "ここで `%%` で始まる文字列はセルマジックと呼ばれる機能で、セルに対して拡張機能を適用するときに使用します。ここでは BigQuery との連携機能を使用しており `%%bigquery` という文字列の下にあるSQLクエリを BigQuery 上で実行することができます。"
      ]
    },
    {
      "cell_type": "code",
      "execution_count": null,
      "metadata": {
        "id": "n1ais5vu30KM"
      },
      "outputs": [],
      "source": [
        "import google.cloud.bigquery.magics\n",
        "google.cloud.bigquery.magics.context.project = PROJECT_ID"
      ]
    },
    {
      "cell_type": "markdown",
      "metadata": {
        "id": "h63PO9II4OZD"
      },
      "source": [
        "上記のセルを実行すると、 `%%bigquery` で使用するGCPプロジェクトとして前節で作成したプロジェクトを指定できます。  \n",
        "なお、本演習では使用していませんが、 `%%bigquery --project {PROJECT_ID}` のように `%%bigquery` の引数として使用するGCPプロジェクトを指定する方法もあります。"
      ]
    },
    {
      "cell_type": "code",
      "execution_count": null,
      "metadata": {
        "id": "_3Qg-J2YF_Oz"
      },
      "outputs": [],
      "source": [
        "%%bigquery\n",
        "select 'Hello' as World"
      ]
    },
    {
      "cell_type": "markdown",
      "metadata": {
        "id": "wvzK6jueKImu"
      },
      "source": [
        "上記のSQLを実行し下の画像のような結果が表示されたらBigQueryの設定完了です 👌"
      ]
    },
    {
      "cell_type": "markdown",
      "metadata": {
        "id": "wL3NwajTJnaA"
      },
      "source": [
        "![image.png](data:image/png;base64,iVBORw0KGgoAAAANSUhEUgAAAIYAAABMCAYAAACoCs9DAAAElUlEQVR4Ae2cvU0lQRCESYUEIAAyAAlEBERAGPgkgYVNAjhEgIOwMUFYmHOqx9Vc09f7N4zezqzqSavtnd9+Vd/O7ILgIOkjBQIFDoIyFUmBJDAEQaiAwAhlUaHAEAOhAgIjlEWFAkMMhAoIjFAWFQoMMRAqIDBCWVQoMMRAqIDACGVR4Swwnp6e0u3t7eiBNvpsR4FZYACKw8PD0QNt9NmOAovAGPragEZgDKnTZ3kVMACFtpI+ARjKugoYHPzz83O3cjw/P7NI504VqAoGNLi/v09HR0epdzje39/T5eVlenh4+HFGGepqfTjP1Lhz29XKqwoY/q3l7OwsHR8fdw0HjRAYI6jxrWSoiQfj9PS0+1VDYAy5bcqnwDBNtZVYMWbEBHCTWwm//5YePmnY2FbCNvwZjzeX9RwD7Yba+HJoyv7oxzGidtS/5rnKM8YWX1dpCg3hmcawfujaG8t23jw/Dutt+evr6w6oCCy2r32uAgYSBhxb+9AcDwW+J+touL+O2kT6RP2ivkPtojFrlC0CAwAMHQLj+/WWoETmRoYNGe7L/XU0Vs2yWWD4tw5A4I8t/uSTZmjFqIncBsZqBYxmnzE24HHRVxgDAwOyntur3UZsvS+3yXCMqA3rMH60atlxaseztpLak2q89hUQGO17tEqGAmMV2dufVGC079EqGQqMVWRvf1KB0b5Hq2QoMFaRvf1JBUb7Hq2SocBYRfb2JxUY7Xu0SoYCYxXZ25+0eTBeXl6SjuUa/Ba95sH4+vpKOpZrIDAETnjjCAyBITC0pczfUrRiaMXQiqEVQytGXgkFw3wYrFZZwMJAr6sb3YoKecjdBIbAyDDYQGCsDMbj42O6vr5OHx8fu4fIu7u7dHNzEz5Q2q1iKrYml8SbAAP/pOXk5OTHX8lB8CnxSuthIsyEiX4M5HJ1dZXe3t7+q/NtcS0wSrBNaVJcQnFxcbEzg6bhbzEi4yJzlpZxjmh8gVFo9NJuU6Zh2fUQ4C5EmV2ip8ZZUr8UDMKLnHxeUysG54r6juW8VGffvuutxIpmtw4age0F8ZiAJXWcd86KgfnPz89/5AGY+RwxBkY0D+acA7w3eul112BgH8cWgrtpDTB4F/sztzVABwBsbigDLHwOGQPD16EvYfFjesCXguDbC4yCtxKaM7VisJ0HB9eEx5uPMbma2Ngaj/pobtvGG730umswrPD2DmplK2F+NjdrHmKBsRTZv+29kP4adw/uQHsHQWyUzdmL/Xhzrmm4nZP97DaBMuTHFYBt7HkMDF+HfpwbdXYcHxfKnbt1vWJADK4OXJopnIfFC/eba84xBwzmZ43EsxFgwTjefIxJkKJ5UD8H+OxwYdA9GBYOwMDDGvEbCKK+kWFs51eMofwI1RgY6GsfsJesgoU85G6bAIOm6PzvN7HZ4cJAYBS8lfQAYCEPuZvAEBgZBhsIDIFhecixwBAYGQYbCAyBYXnIscAQGBkGGwgMgWF5yLHAEBgZBhsIDIFhecixwBAYGQYbNA+GTVbx/hQQGPvTuquZBEZXdu0vWYGxP627mklgdGXX/pL9AxX3WgCi9lohAAAAAElFTkSuQmCC)"
      ]
    },
    {
      "cell_type": "markdown",
      "metadata": {
        "id": "0on6LgBqKZ5d"
      },
      "source": [
        "## データの取得\n",
        "\n",
        "BigQueryでは公開データセットが提供されています。まずは公開データセットにどのようなデータが入っているかの調査を通してSELECT文の使い方を学んでみましょう。\n",
        "\n",
        "BigQueryではINFORMATION_SCHEMAというテーブル情報を取得するためのメタデータが提供されているので、こちらのメタデータを使ってデータセットの調査を行なっていきます。  \n",
        "なお、同様のメタデータはMySQLやPostgreSQL等のRDBMSでも提供されています。\n",
        "\n",
        "こちらではジョンズ・ホプキンス大学が提供する新型コロナウイルス（COVID-19）に関する公開データセットのテーブル情報を参照しています。\n"
      ]
    },
    {
      "cell_type": "markdown",
      "metadata": {
        "id": "SUOhGbIsQ9Uc"
      },
      "source": [
        "### SELECT文: 基本形\n",
        "\n",
        "SQLクエリを使ってデータを取得する時はSELECT文を利用します。  \n",
        "\n",
        "```sql\n",
        "SELECT\n",
        "    <式>\n",
        "FROM\n",
        "    <テーブル名>\n",
        ";\n",
        "```\n",
        "\n",
        "BigQueryのおいては `<テーブル名>` としては以下のようなフォーマットで記述できます。  \n",
        "ref. https://cloud.google.com/bigquery/docs/reference/standard-sql/query-syntax#select_list\n",
        "\n",
        "```sql\n",
        "SELECT * FROM TableName;\n",
        "SELECT * FROM DatasetName.TableName;\n",
        "SELECT * FROM ProjectID.DatasetName.TableName;\n",
        "```\n",
        "\n",
        "名前に記号が含まれている場合はエスケープ処理が必要な場合もあります。\n",
        "Google SQLにおけるエスケープはバッククォート ( `` ` `` )を利用します。\n",
        "\n",
        "```sql\n",
        "SELECT * FROM `bigquery-public-data`.`covid19_jhu_csse`.`INFORMATION_SCHEMA.TABLES`;\n",
        "SELECT * FROM `bigquery-public-data.covid19_jhu_csse.INFORMATION_SCHEMA.TABLES`;\n",
        "```\n",
        "\n",
        "上記のクエリでは、先ほど紹介したジョンズ・ホプキンス大学が提供する新型コロナウイルス（COVID-19）に関する公開データセットのテーブル情報を取得しています。\n",
        "\n",
        "- Project ID: `bigquery-public-data`\n",
        "- Dataset Name: `covid19_jhu_csse`\n",
        "- Table Name: `INFORMATION_SCHEMA.TABLES`\n",
        "\n",
        "※ BigQueryにおける [`INFORMATION_SCHEMA`](https://cloud.google.com/bigquery/docs/information-schema-intro) ビューは、BigQueryオブジェクトに関するメタデータ情報を提供するシステム定義の読み取り専用ビューです。  テーブル名の一覧やカラムのdescriptionなどをSQLで取得したい場合に便利な情報を提供してくれます。"
      ]
    },
    {
      "cell_type": "code",
      "execution_count": null,
      "metadata": {
        "id": "G1KN4vKyFkjJ"
      },
      "outputs": [],
      "source": [
        "%%bigquery\n",
        "-- これはコメントです\n",
        "# これもコメントです\n",
        "/* これまたコメントです */\n",
        "\n",
        "select\n",
        "  # 全てのカラムを取ってくる\n",
        "  *\n",
        "from\n",
        "  `bigquery-public-data.covid19_jhu_csse.INFORMATION_SCHEMA.TABLES`\n",
        ";"
      ]
    },
    {
      "cell_type": "markdown",
      "metadata": {
        "id": "rkp13BSfoEVk"
      },
      "source": [
        "公開データセットに含まれるテーブルの名称や作成時刻が確認できました。"
      ]
    },
    {
      "cell_type": "markdown",
      "metadata": {
        "id": "Ex5jWHdRPlLw"
      },
      "source": [
        "### LIMIT句\n",
        "\n",
        "`LIMIT`句を利用することで取得するレコード数を制限することができます。  \n",
        "\n",
        "MySQLをはじめとするOLTP用途のデータベースにおいては大量のデータを制限なしに取得するとデータベースのクライアントに負荷がかかりトラブルの原因になります。\n",
        "\n",
        "Google BigQueryをはじめとするOLAP用途のデータベースではLIMIT句によって表示するレコードの量を制限することはできますが、クエリの種類によってはスキャンするデータの量は制限できないことがあります。\n",
        "\n",
        "ただし集計処理せずにそのまま生データを見る際には基本的にはLIMIT句をつけた方が無駄な処理が走らずに済むため、`SELECT` 文を使ってデータを見るときは`LIMIT`句で取得するレコード数を制限する習慣を付けると良いでしょう。\n",
        "\n",
        "問1. `LIMIT`句を使って `bigquery-public-data.covid19_jhu_csse.summary` というテーブルに含まれるレコードを10件表示してみましょう。"
      ]
    },
    {
      "cell_type": "code",
      "execution_count": null,
      "metadata": {
        "id": "S0Br6VJ8Zhs0"
      },
      "outputs": [],
      "source": [
        "%%bigquery\n"
      ]
    },
    {
      "cell_type": "code",
      "execution_count": null,
      "metadata": {
        "id": "K_7TB-WCM-PY"
      },
      "outputs": [],
      "source": [
        "#@title 解答 {display-mode: \"form\"}\n",
        "%%bigquery\n",
        "select\n",
        "  *\n",
        "from\n",
        "  bigquery-public-data.covid19_jhu_csse.summary\n",
        "limit 10"
      ]
    },
    {
      "cell_type": "markdown",
      "metadata": {
        "id": "fYAhu_3tVi7O"
      },
      "source": [
        "問2. LIMIT句を使って bigquery-public-data.covid19_jhu_csse.summary というテーブルに含まれるレコードを15件表示してみましょう。"
      ]
    },
    {
      "cell_type": "code",
      "execution_count": null,
      "metadata": {
        "id": "SPwdQsXUVmOW"
      },
      "outputs": [],
      "source": [
        "%%bigquery\n"
      ]
    },
    {
      "cell_type": "code",
      "execution_count": null,
      "metadata": {
        "id": "MP26_EGiVxHP"
      },
      "outputs": [],
      "source": [
        "#@title 解答 {display-mode: \"form\"}\n",
        "%%bigquery\n",
        "select\n",
        "  *\n",
        "from\n",
        "  bigquery-public-data.covid19_jhu_csse.summary\n",
        "limit 15"
      ]
    },
    {
      "cell_type": "markdown",
      "metadata": {
        "id": "eAqotkqJkTGU"
      },
      "source": [
        "### ORDER BY句\n",
        "取得するレコードの順番を並び替える際は`ORDER BY`句を使います。\n",
        "\n",
        "`ORDER BY`で指定したカラム名の後に`ASC`を付与すると昇順、`DESC`を付与すると降順でソートされます。  \n",
        "何もつけなかった場合は昇順になります。"
      ]
    },
    {
      "cell_type": "markdown",
      "metadata": {
        "id": "3WdHyRfNkylk"
      },
      "source": [
        "問2. `bigquery-public-data.covid19_jhu_csse.summary` を、`country_region` 列で昇順（ASC）・降順（DESC）で並び替えて10件表示してみましょう。"
      ]
    },
    {
      "cell_type": "code",
      "execution_count": null,
      "metadata": {
        "id": "KR44gFlZaZWd"
      },
      "outputs": [],
      "source": [
        "%%bigquery\n"
      ]
    },
    {
      "cell_type": "code",
      "execution_count": null,
      "metadata": {
        "id": "jZintNGklIzm"
      },
      "outputs": [],
      "source": [
        "#@title 解答(昇順) {display-mode: \"form\"}\n",
        "%%bigquery\n",
        "select\n",
        "  *\n",
        "from\n",
        "  bigquery-public-data.covid19_jhu_csse.summary\n",
        "order by\n",
        "  country_region asc -- ascは省略してもOK\n",
        "limit 10"
      ]
    },
    {
      "cell_type": "code",
      "execution_count": null,
      "metadata": {
        "id": "699CPOBElL1V"
      },
      "outputs": [],
      "source": [
        "#@title 解答(降順) {display-mode: \"form\"}\n",
        "%%bigquery\n",
        "select\n",
        "  *\n",
        "from\n",
        "  bigquery-public-data.covid19_jhu_csse.summary\n",
        "order by\n",
        "  country_region desc\n",
        "limit 10"
      ]
    },
    {
      "cell_type": "markdown",
      "metadata": {
        "id": "Qpm9IzgzRmDc"
      },
      "source": [
        "### WHERE句\n",
        "\n",
        "WHERE句に検索条件を指定すると取得対象のレコードを絞り込むことができます。\n",
        "\n",
        "先ほどのクエリの結果をみると `country_region` というカラムに国名が入っていることがわかります。\n",
        "\n",
        "問3. WHERE句を使って日本（`Japan`）のレコードを10件取得してみましょう。\n",
        "\n",
        "ヒント:\n",
        "- 国の情報が入っているカラムは`country_region`です\n"
      ]
    },
    {
      "cell_type": "code",
      "execution_count": null,
      "metadata": {
        "id": "Ck0liDiFaoH6"
      },
      "outputs": [],
      "source": [
        "%%bigquery\n"
      ]
    },
    {
      "cell_type": "code",
      "execution_count": null,
      "metadata": {
        "id": "JtQ6BC0mSi0x"
      },
      "outputs": [],
      "source": [
        "#@title 解答 {display-mode: \"form\"}\n",
        "%%bigquery\n",
        "select\n",
        "  *\n",
        "from\n",
        "  bigquery-public-data.covid19_jhu_csse.summary\n",
        "where\n",
        "  country_region = 'Japan'\n",
        "limit 10"
      ]
    },
    {
      "cell_type": "markdown",
      "metadata": {
        "id": "IrN659s4S02_"
      },
      "source": [
        "日本の感染者数に関するデータが取得できました。"
      ]
    },
    {
      "cell_type": "markdown",
      "metadata": {
        "id": "-2Gk9G9taHFQ"
      },
      "source": [
        "## 集計処理"
      ]
    },
    {
      "cell_type": "markdown",
      "metadata": {
        "id": "fvrXBeVeXkvm"
      },
      "source": [
        "### COUNT関数\n",
        "\n"
      ]
    },
    {
      "cell_type": "markdown",
      "metadata": {
        "id": "HrpYZk1Fs8Eo"
      },
      "source": [
        "COUNT関数を利用するとレコード数を数えることができます。"
      ]
    },
    {
      "cell_type": "markdown",
      "metadata": {
        "id": "chJ_zPiltJel"
      },
      "source": [
        "問1. summaryテーブルの全レコード数を確認してみましょう。"
      ]
    },
    {
      "cell_type": "code",
      "execution_count": null,
      "metadata": {
        "id": "eX75DxHqg1hx"
      },
      "outputs": [],
      "source": [
        "%%bigquery\n"
      ]
    },
    {
      "cell_type": "code",
      "execution_count": null,
      "metadata": {
        "id": "JJVp3NELY1Ik"
      },
      "outputs": [],
      "source": [
        "#@title 解答 {display-mode: \"form\"}\n",
        "%%bigquery\n",
        "select\n",
        "  count(1) as num\n",
        "from\n",
        "  bigquery-public-data.covid19_jhu_csse.summary"
      ]
    },
    {
      "cell_type": "markdown",
      "metadata": {
        "id": "AMAPvwBHWgcK"
      },
      "source": [
        "問2. summaryテーブルの日本（Japan）のレコード数を確認してみましょう。"
      ]
    },
    {
      "cell_type": "code",
      "execution_count": null,
      "metadata": {
        "id": "NpqADhlrWsz_"
      },
      "outputs": [],
      "source": [
        "%%bigquery\n"
      ]
    },
    {
      "cell_type": "code",
      "execution_count": null,
      "metadata": {
        "id": "mawhy_5_Wke0"
      },
      "outputs": [],
      "source": [
        "#@title 解答 {display-mode: \"form\"}\n",
        "%%bigquery\n",
        "select\n",
        "  count(1) as num\n",
        "from\n",
        "  bigquery-public-data.covid19_jhu_csse.summary\n",
        "where\n",
        "  country_region = 'Japan'"
      ]
    },
    {
      "cell_type": "markdown",
      "metadata": {
        "id": "5s_jxWJtiEUg"
      },
      "source": [
        "### 集約操作（GROUP BY句）\n",
        "\n",
        "データセットを見ていると国によっては複数のレコードを持っていることが分かります。GROUP BY 句を利用すると指定したカラムの値でグループ分けした結果に対して COUNT 関数などを利用した集計を行うことができます。\n",
        "\n",
        "```sql\n",
        "SELECT\n",
        "  <カラム>\n",
        "FROM\n",
        "  <テーブル>\n",
        "WHERE\n",
        "  <条件>\n",
        "-- NEW!!\n",
        "GROUP BY\n",
        "  <集約するカラム> -- 複数指定可能\n",
        "HAVING\n",
        "  <集約後の結果に対する条件>\n",
        "```"
      ]
    },
    {
      "cell_type": "markdown",
      "metadata": {
        "id": "GrsD1qr82oVt"
      },
      "source": [
        "問1. GROUP BY 句を使って国（country_region）・日（date）別で`confirmed`の合計を集計してみましょう。\n",
        "\n",
        "ヒント:\n",
        "*   合計には `SUM` 関数を使います。\n"
      ]
    },
    {
      "cell_type": "code",
      "execution_count": null,
      "metadata": {
        "id": "Wz3M5z2-oMp4"
      },
      "outputs": [],
      "source": [
        "%%bigquery\n"
      ]
    },
    {
      "cell_type": "code",
      "execution_count": null,
      "metadata": {
        "id": "CVZNH_IhqXoN"
      },
      "outputs": [],
      "source": [
        "#@title 解答 {display-mode: \"form\"}\n",
        "%%bigquery\n",
        "select\n",
        "  country_region,\n",
        "  date,\n",
        "  sum(confirmed) as confirmed_sum\n",
        "from\n",
        "  bigquery-public-data.covid19_jhu_csse.summary\n",
        "group by\n",
        "  country_region,\n",
        "  date\n",
        "\n",
        "order by\n",
        "  country_region,\n",
        "  date\n",
        "\n",
        "limit 10"
      ]
    },
    {
      "cell_type": "markdown",
      "metadata": {
        "id": "xl4lEKxj4JuQ"
      },
      "source": [
        "## 条件式"
      ]
    },
    {
      "cell_type": "markdown",
      "metadata": {
        "id": "SbJn1N2y4MSL"
      },
      "source": [
        "### CASE式\n",
        "CASE式は条件分岐に相当するもので、2通りの書き方があります。\n",
        "\n",
        "```sql\n",
        "-- 単純CASE式\n",
        "CASE <カラム>\n",
        "    WHEN <値> THEN <カラム = 値のときの返り値>\n",
        "    ELSE <上記を満たさないときの返り値>\n",
        "END\n",
        "```\n",
        "\n",
        "```sql\n",
        "-- 検索CASE式\n",
        "CASE\n",
        "    WHEN <条件> THEN <条件を満たすときの返り値>\n",
        "    ELSE <上記を満たさないときの返り値>\n",
        "END\n",
        "```\n"
      ]
    },
    {
      "cell_type": "markdown",
      "metadata": {
        "id": "y7MiqGOlD-32"
      },
      "source": [
        "前章では複数の州を持つ国のconfirmedの推移を国・日別で見ましたが、次は日本の地方別・日別で見てみましょう。\n",
        "\n",
        "地方と都道府県の対応関係は次とします。\n",
        "\n",
        "| 地方 | 都道府県 |\n",
        "|:--:|:--:|\n",
        "| `北海道` | `Hokkaido` |\n",
        "| `東北` | Aomori, Iwate, Miyagi, Akita, Yamagata, Fukushima |\n",
        "| `関東` | `Tokyo`, Kanagawa, Chiba, Saitama, Ibaraki, Tochigi, Gunma |\n",
        "| `中部` | Niigata, Toyama, Ishikawa, Fukui, Yamanashi, Nagano, Gifu, Shizuoka, Aichi |\n",
        "| `近畿`（関西） | `Osaka`, Kyoto, Hyogo, Nara, Shiga, Wakayama, Mie |\n",
        "| `中国` | Tottori, Shimane, Okayama, Hiroshima, Yamaguchi |\n",
        "| `四国` | `Tokushima`, Kagawa, Ehime, Kochi |\n",
        "| `九州` | Fukuoka, Saga, Nagasaki, Kumamoto, Oita, Miyazaki, Kagoshima |\n",
        "| `沖縄` | `Okinawa` |"
      ]
    },
    {
      "cell_type": "markdown",
      "metadata": {
        "id": "TOWIyJCWhr0y"
      },
      "source": [
        "問1. 上記の地方と都道府県の表を参考に都道府県を地方に変換し、\n",
        "- 関東\n",
        "- 四国\n",
        "\n",
        "の地方・日別のconfirmedの合計を集計してみましょう。\n",
        "\n",
        "結果のイメージ\n",
        "\n",
        "|日付|大州|confirmed_cases|\n",
        "|---|---|---|\n",
        "|2021-01-01|関東|1234|\n",
        "|2021-01-01|四国|2345|\n",
        "|2021-01-02|関東|1234|\n",
        "|2021-01-02|四国|2345|\n",
        "|2021-01-03|関東|1234|\n",
        "\n",
        "ヒント:\n",
        "- CASE（単純式・検索式どちらでもよい）を用いて、都道府県を地方に変換するとよい\n",
        "- 合計はSUM関数を使う\n",
        "- Noneになっている行は可です"
      ]
    },
    {
      "cell_type": "code",
      "execution_count": null,
      "metadata": {
        "id": "O-e6Cmu0h-cn"
      },
      "outputs": [],
      "source": [
        "%%bigquery\n"
      ]
    },
    {
      "cell_type": "code",
      "execution_count": null,
      "metadata": {
        "id": "Lz6nei1j4sHf"
      },
      "outputs": [],
      "source": [
        "#@title 解答（単純CASE式） {display-mode: \"form\"}\n",
        "%%bigquery\n",
        "select\n",
        "  CASE province_state\n",
        "    WHEN 'Tokyo' THEN 'Kanto'\n",
        "    WHEN 'Kanagawa' THEN 'Kanto'\n",
        "    WHEN 'Chiba' THEN 'Kanto'\n",
        "    WHEN 'Saitama' THEN 'Kanto'\n",
        "    WHEN 'Ibaraki' THEN 'Kanto'\n",
        "    WHEN 'Tochigi' THEN 'Kanto'\n",
        "    WHEN 'Gunma' THEN 'Kanto'\n",
        "    WHEN 'Tokushima' THEN 'Shikoku'\n",
        "    WHEN 'Kagawa' THEN 'Shikoku'\n",
        "    WHEN 'Ehime' THEN 'Shikoku'\n",
        "    WHEN 'Kochi' THEN 'Shikoku'\n",
        "  END AS province_state,\n",
        "  date,\n",
        "  sum(confirmed) as confirmed_sum\n",
        "from\n",
        "  bigquery-public-data.covid19_jhu_csse.summary\n",
        "WHERE\n",
        "  country_region = 'Japan'\n",
        "  AND province_state != 'None'\n",
        "group by\n",
        "  province_state,\n",
        "  date\n",
        "\n",
        "order by\n",
        "  date,\n",
        "  province_state\n",
        "\n",
        "limit 20"
      ]
    },
    {
      "cell_type": "markdown",
      "metadata": {
        "id": "N3ZeSYwJERZw"
      },
      "source": [
        "上記のクエリは以下のように書くこともできます。"
      ]
    },
    {
      "cell_type": "code",
      "execution_count": null,
      "metadata": {
        "id": "kM-O5WAbEWzX"
      },
      "outputs": [],
      "source": [
        "#@title 解答（検索CASE式） {display-mode: \"form\"}\n",
        "%%bigquery\n",
        "select\n",
        "  CASE\n",
        "    WHEN province_state IN ('Tokyo', 'Kanagawa', 'Chiba', 'Saitama', 'Ibaraki', 'Tochigi', 'Gunma') THEN 'Kanto'\n",
        "    WHEN province_state IN ('Tokushima', 'Kagawa', 'Ehime', 'Kochi') THEN 'Shikoku'\n",
        "  END AS province_state,\n",
        "  date,\n",
        "  sum(confirmed) as confirmed_sum\n",
        "from\n",
        "  bigquery-public-data.covid19_jhu_csse.summary\n",
        "WHERE\n",
        "  country_region = 'Japan'\n",
        "  AND province_state != 'None'\n",
        "group by\n",
        "  province_state,\n",
        "  date\n",
        "\n",
        "order by\n",
        "  date,\n",
        "  province_state\n",
        "\n",
        "limit 20"
      ]
    },
    {
      "cell_type": "markdown",
      "metadata": {
        "id": "YUCEfHed5k2h"
      },
      "source": [
        "## 集合操作(サブクエリ・UNION)\n",
        "\n",
        "ここから少し複雑なSELECT文を扱っていきます。"
      ]
    },
    {
      "cell_type": "markdown",
      "metadata": {
        "id": "_PfTdgmk6aR5"
      },
      "source": [
        "### サブクエリ\n",
        "\n",
        "SELECTの結果を別のクエリ内で使用することをサブクエリと言います。\n"
      ]
    },
    {
      "cell_type": "markdown",
      "metadata": {
        "id": "IJYwV8neqGiV"
      },
      "source": [
        "問1. 全都道府県の`confirmed`のうち、東京の`confirmed`の割合を日別に集計することを考えます。\n",
        "\n",
        " (1) 日毎の 全都道府県の`confirmed`と東京の`confirmed`の合計をそれぞれ集計してみましょう。日付は最新日からとしてください。\n",
        "\n",
        "\n",
        " 出力例\n",
        "\n",
        " |date|東京の件数|全都道府県の件数|\n",
        " |---|---|---|\n",
        " |2023-03-09| 300| 10000|\n",
        " |2023-03-08| 250| 12000|\n",
        "\n",
        "ヒント:\n",
        "- SUM関数の中でCASE式を使うことができます"
      ]
    },
    {
      "cell_type": "code",
      "execution_count": null,
      "metadata": {
        "id": "0jYy5ef8rO5l"
      },
      "outputs": [],
      "source": [
        "%%bigquery\n"
      ]
    },
    {
      "cell_type": "code",
      "execution_count": null,
      "metadata": {
        "id": "J9SPEyOfqIZK"
      },
      "outputs": [],
      "source": [
        "#@title 解答 {display-mode: \"form\"}\n",
        "%%bigquery\n",
        "\n",
        "select\n",
        "  date,\n",
        "\n",
        "  -- where句で東京のみに絞り込むと confirmed_sum_all の集計がうまくいかないので、CASE式で絞り込んでいる\n",
        "  sum(case when province_state = 'Tokyo' then confirmed end) as confirmed_sum_tokyo,\n",
        "\n",
        "  sum(confirmed) as confirmed_sum_all\n",
        "from\n",
        "  bigquery-public-data.covid19_jhu_csse.summary\n",
        "WHERE\n",
        "  country_region = 'Japan'\n",
        "\n",
        "group by\n",
        "  date\n",
        "order by\n",
        "  date DESC\n",
        "\n",
        "limit 10"
      ]
    },
    {
      "cell_type": "markdown",
      "metadata": {
        "id": "MVb58pURrDkU"
      },
      "source": [
        "(2) (1)のクエリをサブクエリとして、全世界の`confirmed_cases`のうち、カナダの`confirmed_cases`の割合を日別に集計してみましょう。日付は最新日からとしてください\n",
        "\n",
        "ヒント:\n",
        "- サブクエリはFROM句で使うことができます"
      ]
    },
    {
      "cell_type": "code",
      "execution_count": null,
      "metadata": {
        "id": "LNOMzr7srQh0"
      },
      "outputs": [],
      "source": [
        "%%bigquery\n",
        "\n"
      ]
    },
    {
      "cell_type": "code",
      "execution_count": null,
      "metadata": {
        "id": "ttS-lA3tQ7mS"
      },
      "outputs": [],
      "source": [
        "#@title 解答 {display-mode: \"form\"}\n",
        "%%bigquery\n",
        "select\n",
        "  date,\n",
        "  confirmed_sum_tokyo,\n",
        "  confirmed_sum_all,\n",
        "  1.0 *  confirmed_sum_tokyo / confirmed_sum_all as confirmed_percent_tokyo\n",
        "from\n",
        "(\n",
        "  select\n",
        "    date,\n",
        "\n",
        "    -- where句で東京のみに絞り込むと confirmed_sum_all の集計がうまくいかないので、CASE式で絞り込んでいる\n",
        "    sum(case when province_state = 'Tokyo' then confirmed end) as confirmed_sum_tokyo,\n",
        "\n",
        "    sum(confirmed) as confirmed_sum_all\n",
        "  from\n",
        "    bigquery-public-data.covid19_jhu_csse.summary\n",
        "  WHERE\n",
        "    country_region = 'Japan'\n",
        "  group by\n",
        "    date\n",
        ")\n",
        "\n",
        "order by\n",
        "  date DESC\n",
        "\n",
        "limit 10"
      ]
    },
    {
      "cell_type": "markdown",
      "metadata": {
        "id": "7ynaJ8rq6-lT"
      },
      "source": [
        "### WITH句\n",
        "\n",
        "WITH句を使うとサブクエリに名前を付けてクエリの外側に持っていくことができます。これにより、ネストを下げたりサブクエリを再利用したりすることができます。WITH句で定義したサブクエリは通常のテーブルと同様にクエリすることができます。\n",
        "\n",
        "RDBMSの世界ですとMySQLは長らくサポートしていませんでしたがバージョン8.0から利用できるようになっています。\n",
        "\n",
        "```sql\n",
        "SELECT\n",
        "  *\n",
        "FROM (\n",
        "  SELECT ...\n",
        ") AS cte\n",
        "\n",
        "# 上記の文と等価\n",
        "WITH cte AS (\n",
        "  SELECT ...\n",
        ")\n",
        "SELECT\n",
        "  *\n",
        "FROM\n",
        "  cte\n",
        "\n",
        "# 複数定義する場合はカンマでつなげる\n",
        "WITH cte1 AS (...),\n",
        "  cte2 AS (...)\n",
        "SELECT...\n",
        "```"
      ]
    },
    {
      "cell_type": "markdown",
      "metadata": {
        "id": "XxYaYiI-r0qk"
      },
      "source": [
        "問2. 問1(2) をWITH句を用いて書き直してみましょう。"
      ]
    },
    {
      "cell_type": "code",
      "execution_count": null,
      "metadata": {
        "id": "ci7zp9der6Df"
      },
      "outputs": [],
      "source": [
        "%%bigquery\n"
      ]
    },
    {
      "cell_type": "code",
      "execution_count": null,
      "metadata": {
        "id": "908uMVZbUZd-"
      },
      "outputs": [],
      "source": [
        "#@title 解答 {display-mode: \"form\"}\n",
        "%%bigquery\n",
        "with tokyo_confirmed_cases as (\n",
        "  select\n",
        "    date,\n",
        "\n",
        "    -- where句で東京のみに絞り込むと confirmed_sum_all の集計がうまくいかないので、CASE式で絞り込んでいる\n",
        "    SUM(CASE WHEN province_state = 'Tokyo' THEN confirmed END) AS confirmed_sum_tokyo,\n",
        "    SUM(confirmed) AS confirmed_sum_all\n",
        "  FROM\n",
        "    bigquery-public-data.covid19_jhu_csse.summary\n",
        "  WHERE\n",
        "    country_region = 'Japan'\n",
        "  GROUP BY\n",
        "    date\n",
        ")\n",
        "\n",
        "select\n",
        "  date,\n",
        "  confirmed_sum_tokyo,\n",
        "  confirmed_sum_all,\n",
        "  1.0 *  confirmed_sum_tokyo / confirmed_sum_all as confirmed_percent_tokyo\n",
        "from tokyo_confirmed_cases\n",
        "\n",
        "order by\n",
        "  date DESC\n",
        "\n",
        "limit 10"
      ]
    },
    {
      "cell_type": "markdown",
      "metadata": {
        "id": "wq7XQMTE776v"
      },
      "source": [
        "### UNION句（サンプルクエリを回すのみ）\n",
        "\n",
        "UNION 句を利用するとクエリの結果を縦方向に結合することができます。\n",
        "\n",
        "公開データセットのテーブル情報を見ると、 `confirmed_cases` / `recovered_cases` / `deaths` の3テーブルがあることがわかります。"
      ]
    },
    {
      "cell_type": "code",
      "execution_count": null,
      "metadata": {
        "id": "MJzIMDWR7Udd"
      },
      "outputs": [],
      "source": [
        "%%bigquery\n",
        "select\n",
        "  *\n",
        "from\n",
        "  bigquery-public-data.covid19_jhu_csse.INFORMATION_SCHEMA.TABLES\n",
        "limit 10"
      ]
    },
    {
      "cell_type": "markdown",
      "metadata": {
        "id": "Q_e-1y3WfYjO"
      },
      "source": [
        "ここでは日本のデータについて `confirmed_cases` / `recovered_cases` / `deaths` の結果を `UNION` 句で結合してみましょう。"
      ]
    },
    {
      "cell_type": "markdown",
      "metadata": {
        "id": "V6MSZiFB4-A_"
      },
      "source": [
        "label というカラムに元テーブルの名前を格納することで、どのテーブル由来のデータかを区別できるようにしています。\n",
        "\n",
        "UNION だけだとそれぞれのセットで重複するものが排除されますがその分パフォーマンスが落ちてしまいます。UNION ALL と指定すると重複チェックを行わずに結果を結合することができます。"
      ]
    },
    {
      "cell_type": "code",
      "execution_count": null,
      "metadata": {
        "id": "gQfRmfQm54o9"
      },
      "outputs": [],
      "source": [
        "%%bigquery\n",
        "select\n",
        "  'confirmed' as label,\n",
        "  * except (latitude, longitude, location_geom)\n",
        "from\n",
        "  bigquery-public-data.covid19_jhu_csse.confirmed_cases\n",
        "where\n",
        "  country_or_region = 'Japan'\n",
        "\n",
        "union all\n",
        "select\n",
        "  'recovered' as label,\n",
        "  * except (latitude, longitude, location_geom)\n",
        "from\n",
        "  bigquery-public-data.covid19_jhu_csse.recovered_cases\n",
        "where\n",
        "  country_or_region = 'Japan'\n",
        "\n",
        "union all\n",
        "select\n",
        "  'death' as label,\n",
        "  * except (latitude, longitude, location_geom)\n",
        "from\n",
        "  bigquery-public-data.covid19_jhu_csse.deaths\n",
        "where\n",
        "  country_or_region = 'Japan'"
      ]
    },
    {
      "cell_type": "markdown",
      "metadata": {
        "id": "Bb8Z93LHz529"
      },
      "source": [
        "## 集合操作(JOIN)"
      ]
    },
    {
      "cell_type": "markdown",
      "metadata": {
        "id": "lVTpR-5P5qfw"
      },
      "source": [
        "JOINを利用することで複数のテーブルまたはサブクエリを特定の条件で横方向に結合することができます。\n",
        "\n",
        "```sql\n",
        "    SELECT\n",
        "      <式>\n",
        "    FROM\n",
        "      <テーブル>\n",
        "      -- NEW!!\n",
        "      INNER JOIN\n",
        "        <結合するテーブル> ON <結合条件>\n",
        "```\n",
        "\n",
        "結合方式には以下の3種類があり、それぞれ役割が異なります。\n",
        "\n",
        "- 内部結合（INNER JOIN）\n",
        "  - 一致するもの\n",
        "- 外部結合（OUTER JOIN）\n",
        "  - 一致しないときはNULL\n",
        "- クロス結合（CROSS JOIN）\n",
        "  - 直積\n",
        "  - 配列データをバラしたりするときに便利\n"
      ]
    },
    {
      "cell_type": "markdown",
      "metadata": {
        "id": "gJzZ6EWVSTj2"
      },
      "source": [
        "### 内部結合 (INNER JOIN)\n",
        "ゲームを想定したデータでJOINを行ってみましょう。  \n",
        "まず、ユーザー情報とステージ情報、プレイログ (誰がどのステージをプレイしたか) の3テーブルを作ります。"
      ]
    },
    {
      "cell_type": "code",
      "execution_count": null,
      "metadata": {
        "id": "eFWqSdAV9MYR"
      },
      "outputs": [],
      "source": [
        "%%bigquery\n",
        "\n",
        "create schema if not exists tmp;\n",
        "\n",
        "-- ユーザー情報\n",
        "create or replace table tmp.users (\n",
        "    user_id int64,\n",
        "    user_name string\n",
        ") as\n",
        "select 1 as user_id, 'Alice' as user_name\n",
        "union all select 2 as user_id, 'Bob' as user_name\n",
        "union all select 3 as user_id, 'Charlie' as user_name;\n",
        "\n",
        "-- ステージ情報\n",
        "create or replace table tmp.stages (\n",
        "    stage_id int64,\n",
        "    stage_name string\n",
        ") as\n",
        "select 1 as stage_id, 'Easy Stage' as stage_name\n",
        "union all select 2 as stage_id, 'Normal Stage' as stage_name;\n",
        "\n",
        "-- プレイログ (誰がどのステージをプレイしたか)\n",
        "create or replace table tmp.plays (\n",
        "    user_id int64,\n",
        "    stage_id int64,\n",
        "    played_at timestamp\n",
        ") as\n",
        "select\n",
        "  user_id, stage_id, played_at\n",
        "from\n",
        "  unnest([struct<user_id int64, stage_id int64, played_at timestamp>\n",
        "    (1,1, timestamp('2024-04-15 10:00:00+09:00')),\n",
        "    (1,2, timestamp('2024-04-15 12:00:00+09:00')),\n",
        "    (2,1, timestamp('2024-04-15 08:00:00+09:00')),\n",
        "    (1,1, timestamp('2024-04-15 13:00:00+09:00'))\n",
        "  ])\n",
        ";"
      ]
    },
    {
      "cell_type": "markdown",
      "metadata": {
        "id": "SRcdhcwniF_0"
      },
      "source": [
        "プレイログを見てみます。"
      ]
    },
    {
      "cell_type": "code",
      "execution_count": null,
      "metadata": {
        "id": "T7Gx4IiBBwCU"
      },
      "outputs": [],
      "source": [
        "%%bigquery\n",
        "select\n",
        "  *\n",
        "from\n",
        "  tmp.plays\n",
        "limit 10"
      ]
    },
    {
      "cell_type": "markdown",
      "metadata": {
        "id": "fYr6D3X47JH0"
      },
      "source": [
        "そのままだと誰がどのステージをプレイしたのか分からないのでユーザー情報とステージ情報をJOINしてみます。"
      ]
    },
    {
      "cell_type": "code",
      "execution_count": null,
      "metadata": {
        "id": "qHsbHRnNB76P"
      },
      "outputs": [],
      "source": [
        "%%bigquery\n",
        "select\n",
        "  user_name,\n",
        "  stage_name,\n",
        "  played_at,\n",
        "from\n",
        "  tmp.plays\n",
        "  inner join tmp.users using(user_id)\n",
        "  inner join tmp.stages using(stage_id)\n",
        "limit 10"
      ]
    },
    {
      "cell_type": "markdown",
      "metadata": {
        "id": "qfXKYyttiKin"
      },
      "source": [
        "人間にわかりやすい形でプレイログが出てきました。"
      ]
    },
    {
      "cell_type": "markdown",
      "metadata": {
        "id": "mv7KPPFCSa0p"
      },
      "source": [
        "### 外部結合 (OUTER JOIN)"
      ]
    },
    {
      "cell_type": "markdown",
      "metadata": {
        "id": "5MGlARCiiltl"
      },
      "source": [
        "usersにplaysをLEFT OUTER JOINすると、プレイしていないユーザーもplays由来のカラムがNULLになった状態で出てきます。"
      ]
    },
    {
      "cell_type": "code",
      "execution_count": null,
      "metadata": {
        "id": "lct09ewoifXV"
      },
      "outputs": [],
      "source": [
        "%%bigquery\n",
        "select\n",
        "  *\n",
        "from\n",
        "  tmp.users\n",
        "  left outer join tmp.plays using(user_id)\n",
        "limit 10"
      ]
    },
    {
      "cell_type": "markdown",
      "metadata": {
        "id": "pdDU7oqTSkth"
      },
      "source": [
        "`LEFT OUTER JOIN` の考え方ですが、 `LEFT OUTER JOIN` の左にあるテーブル ( `users` ) をベースに右にあるテーブル ( `plays` ) を結合するイメージです。\n",
        "\n",
        "```sql\n",
        "from users left outer join plays\n",
        "```\n",
        "\n",
        "なお、実際にはほとんど使われませんが、 `RIGHT OUTER JOIN` (右にあるテーブルをベースに左にあるテーブルを結合する) もあるので、知識として知っておくと良いです。"
      ]
    },
    {
      "cell_type": "markdown",
      "metadata": {
        "id": "zmUu04YEDGnx"
      },
      "source": [
        "### クロス結合 (CROSS JOIN)\n",
        "\n",
        "CROSS JOINは配列データをバラすときに便利です。と言っても具体例をみないと分かりづらいのでGoogle SQLのARRAY型を使ってCROSS JOINの使いどころを確認してみましょう。"
      ]
    },
    {
      "cell_type": "code",
      "execution_count": null,
      "metadata": {
        "id": "ZxqPdIedCCWM"
      },
      "outputs": [],
      "source": [
        "%%bigquery\n",
        "-- ARRAY型を持ったテーブルを作成\n",
        "create or replace table tmp.guild (\n",
        "  guild_name string,\n",
        "  member_ids array<int64>,\n",
        ") as\n",
        "select\n",
        "  'コーギーモード' as guild_name,\n",
        "  [1,2] as member_ids\n",
        "union all\n",
        "select\n",
        "  'ネコモード' as guild_name,\n",
        "  [2,3] as member_ids,\n",
        ";"
      ]
    },
    {
      "cell_type": "code",
      "execution_count": null,
      "metadata": {
        "id": "TICsezm8DS2D"
      },
      "outputs": [],
      "source": [
        "%%bigquery\n",
        "select\n",
        "  *\n",
        "from\n",
        "  tmp.guild\n",
        "limit 10"
      ]
    },
    {
      "cell_type": "markdown",
      "metadata": {
        "id": "NjSbAtdQ80Ll"
      },
      "source": [
        "配列を1行ずつバラしていくときにCROSS JOINが活用できます。  \n",
        "[UNNEST](https://cloud.google.com/bigquery/docs/reference/standard-sql/query-syntax#unnest_operator)演算子を利用することで配列型のカラムをテーブルのように扱うことができます。"
      ]
    },
    {
      "cell_type": "code",
      "execution_count": null,
      "metadata": {
        "id": "5OB70E-hbWav"
      },
      "outputs": [],
      "source": [
        "%%bigquery\n",
        "-- unnest実演\n",
        "select\n",
        "  *\n",
        "from\n",
        "  unnest([1,2,3,4,5])"
      ]
    },
    {
      "cell_type": "code",
      "execution_count": null,
      "metadata": {
        "id": "SkYIvNFODgEO"
      },
      "outputs": [],
      "source": [
        "%%bigquery\n",
        "select\n",
        "  guild_name,\n",
        "  member_id\n",
        "from tmp.guild\n",
        "  cross join unnest(member_ids) as member_id"
      ]
    },
    {
      "cell_type": "markdown",
      "metadata": {
        "id": "bkhFEikvlEJZ"
      },
      "source": [
        "また、Google SQLにおいては[Comma cross join](https://cloud.google.com/bigquery/docs/reference/standard-sql/query-syntax#cross_join)という記法により `CROSS JOIN` キーワードは省略することができます。  \n",
        "配列をバラす`UNNEST`演算子を利用する際は`CROSS JOIN`キーワードを省略して書くことが多い印象です。"
      ]
    },
    {
      "cell_type": "code",
      "execution_count": null,
      "metadata": {
        "id": "3GMH4dd4lC41"
      },
      "outputs": [],
      "source": [
        "%%bigquery\n",
        "select\n",
        "  guild_name,\n",
        "  member_id\n",
        "from tmp.guild, unnest(member_ids) as member_id"
      ]
    },
    {
      "cell_type": "markdown",
      "metadata": {
        "id": "zwwpepB5mlFV"
      },
      "source": [
        "さらに、`UNNEST` 演算子も構文によっては省略できてしまいます。  \n",
        "とはいえ、 省略し過ぎてしまうと他人からみてわかりにくくなってしまう可能性があるため特に他人に見せるSQLでの多用は非推奨です。"
      ]
    },
    {
      "cell_type": "code",
      "execution_count": null,
      "metadata": {
        "id": "cTQEUZ8cmQyK"
      },
      "outputs": [],
      "source": [
        "%%bigquery\n",
        "select\n",
        "  guild_name,\n",
        "  member_id\n",
        "from tmp.guild, guild.member_ids as member_id"
      ]
    },
    {
      "cell_type": "markdown",
      "metadata": {
        "id": "g4pe4h20wysQ"
      },
      "source": [
        "## 分析関数（ウィンドウ関数）\n",
        "\n",
        "分析関数はデータの集計だけではなく機械学習用のデータセットを作成するのにも便利に使える機能です。分析関数を利用すると、今見ているレコードだけでなく、他のレコードの状態も見て集計処理を実行できます。\n",
        "\n",
        "RDBMSの世界ですと、MySQLではWITH句と同様にバージョン8.0からサポートされています。"
      ]
    },
    {
      "cell_type": "markdown",
      "metadata": {
        "id": "hNLP38-d6GVr"
      },
      "source": [
        "### LAG / LEAD 関数\n",
        "\n",
        "あるレコードについて指定の順序で前後にあるレコードのカラムを取得するための機能です。  \n",
        "LAG関数で前にあるレコードのカラムを、LEAD関数で後ろにあるレコードのカラムを取得できます。  \n",
        "例えば、日別のログイン履歴からログインした日付と前回ログインした日付の差、すなわちログインしなかった日数を集計するといったことができます。"
      ]
    },
    {
      "cell_type": "markdown",
      "metadata": {
        "id": "HDMHkT6GBuID"
      },
      "source": [
        "LAG関数を使って、カナダのブリティッシュコロンビア州における前日の`confirmed`を取得してみます。\n",
        "ウィンドウ関数の利用時には `GROUP BY` による集約は必要なく、関数の後ろに `OVER` で始まる順序などの条件指定が入ります。\n",
        "今回の場合ですと、`confirmed`を`date`でソートして、1レコード前の`confirmed`を取得しています。"
      ]
    },
    {
      "cell_type": "code",
      "execution_count": null,
      "metadata": {
        "id": "T38ZuX5a41kR"
      },
      "outputs": [],
      "source": [
        "%%bigquery\n",
        "-- カナダのconfirmed推移（日別）\n",
        "select\n",
        "  date,\n",
        "  confirmed,\n",
        "  lag(confirmed) over (order by date) prev_confirmed\n",
        "from\n",
        "  bigquery-public-data.covid19_jhu_csse.summary\n",
        "where\n",
        "  country_region = 'Canada'\n",
        "  and province_state = 'British Columbia'\n",
        "\n",
        "order by\n",
        "  date"
      ]
    },
    {
      "cell_type": "markdown",
      "metadata": {
        "id": "OKFxgh9SCJUa"
      },
      "source": [
        "問1. 元のデータセットは`confirmed`が累計値になっています。  \n",
        "前日との差分を取ることで1日あたりどれくらい増加したのか集計してみましょう。\n",
        "\n",
        "出力例\n",
        "\n",
        " |date|confirmed|`前日との差分`|\n",
        " |---|---|---|\n",
        "|2020-03-12|46|7|\n",
        "|2020-03-13|64|18|\n",
        "|2020-03-14|64|0|\n",
        "|2020-03-15|73|9|\n",
        "|2020-03-16|103|30|\n",
        "|2020-03-17|103|0|\n"
      ]
    },
    {
      "cell_type": "code",
      "execution_count": null,
      "metadata": {
        "id": "oewIt0Jwswf7"
      },
      "outputs": [],
      "source": [
        "%%bigquery\n"
      ]
    },
    {
      "cell_type": "code",
      "execution_count": null,
      "metadata": {
        "id": "Smt7S5-h5JSw"
      },
      "outputs": [],
      "source": [
        "#@title 解答 {display-mode: \"form\"}\n",
        "\n",
        "%%bigquery\n",
        "select\n",
        "  date,\n",
        "  confirmed,\n",
        "  confirmed - lag(confirmed) over (order by date) confirmed_diff\n",
        "from\n",
        "  bigquery-public-data.covid19_jhu_csse.summary\n",
        "where\n",
        "  country_region = 'Canada'\n",
        "  and province_state = 'British Columbia'\n",
        "order by\n",
        "  date"
      ]
    },
    {
      "cell_type": "markdown",
      "metadata": {
        "id": "WrgOCAHD6MAX"
      },
      "source": [
        "### 累積和\n",
        "\n",
        "先ほどは累計値を日別に変換しましたが、逆に累計値を求めるにはどうすればよいでしょうか。  \n",
        "SUM関数やCOUNT関数などもウィンドウ関数として利用することができ、あるレコードまでの累積和などを求めることができます。\n",
        "\n",
        "問2. 問1の結果を利用して累計値を求めてみましょう\n",
        "ヒント:\n",
        "  初日のlagの結果はIFNULLを使うとうまくいくかもしれません"
      ]
    },
    {
      "cell_type": "code",
      "execution_count": null,
      "metadata": {
        "id": "0WPg3b-FoLq1"
      },
      "outputs": [],
      "source": [
        "%%bigquery\n",
        "-- 問1の結果(前日からの増加分)\n",
        "with df_canada as (\n",
        "  select\n",
        "    date,\n",
        "    # confirmed, # 累積値に頼らない\n",
        "    confirmed - lag(confirmed) over (order by date) confirmed_diff # 前日からの増加分\n",
        "  from\n",
        "    bigquery-public-data.covid19_jhu_csse.summary\n",
        "  WHERE\n",
        "    country_region = 'Canada'\n",
        "    AND province_state = 'British Columbia'\n",
        ")\n",
        "-- ここから問2\n",
        "\n",
        "SELECT\n",
        "  date,\n",
        "  SUM(confirmed_diff) OVER (ORDER BY date )\n",
        "FROM df_canada\n"
      ]
    },
    {
      "cell_type": "code",
      "execution_count": null,
      "metadata": {
        "id": "AFYf2xQl6Z_R"
      },
      "outputs": [],
      "source": [
        "#@title 解答 {display-mode: \"form\"}\n",
        "\n",
        "%%bigquery\n",
        "with df_canada as (\n",
        "  select\n",
        "    date,\n",
        "    confirmed,\n",
        "    IFNULL(confirmed - lag(confirmed) over (order by date), confirmed) confirmed_diff\n",
        "  from\n",
        "    bigquery-public-data.covid19_jhu_csse.summary\n",
        "  WHERE\n",
        "    country_region = 'Canada'\n",
        "    AND province_state = 'British Columbia'\n",
        ")\n",
        "\n",
        "select\n",
        "  date,\n",
        "  confirmed,\n",
        "  sum(confirmed_diff) over (order by date) as confirmed_sum,\n",
        "  confirmed = sum(confirmed_diff)  over (order by date) as `自分で求めた結果と一致しているか確認`\n",
        "from\n",
        "  df_canada\n",
        "\n",
        "order by\n",
        "  date"
      ]
    },
    {
      "cell_type": "markdown",
      "metadata": {
        "id": "Zkg_Iofl6woF"
      },
      "source": [
        "### RANK / ROW_NUMBER 関数\n",
        "\n",
        "`RANK` / `ROW_NUMBER` 関数を使うとランキングを求めたり行番号を求めることができます。\n",
        "\n",
        "同一の値に対し、 `RANK` では同じ番号が振られ、ROW_NUMBERでは最初に見つかった順に番号が振られます。\n",
        "\n",
        "`ROW_NUMBER`の結果が1になるレコードだけを取ってくれば、レコードの重複を排除できるため、`ROW_NUMBER`はレコードの重複排除でよく利用されます。\n",
        "\n",
        "ここでは`RANK`を利用して`confirmed_cases`が多い順にランク付けをしてみましょう。"
      ]
    },
    {
      "cell_type": "code",
      "execution_count": null,
      "metadata": {
        "id": "a_vxER5G6z2Z"
      },
      "outputs": [],
      "source": [
        "%%bigquery\n",
        "select\n",
        "  province_state,\n",
        "  confirmed,\n",
        "  rank() over (order by confirmed desc) as rank\n",
        "from\n",
        "  bigquery-public-data.covid19_jhu_csse.summary\n",
        "WHERE\n",
        "  country_region = 'Canada'\n",
        "  and date = '2020-03-31'\n",
        "\n",
        "order by\n",
        "  confirmed desc"
      ]
    },
    {
      "cell_type": "markdown",
      "metadata": {
        "id": "BM4SxrCUDdBi"
      },
      "source": [
        "問3. 上位三件に絞り込んでみましょう\n",
        "\n",
        "ヒント: SELECT句/FROM句/WHERE句/HAVING句それぞれが実行される順序は以下のようになっています\n",
        "\n",
        "1. FROM句\n",
        "2. WHERE句\n",
        "3. SELECT句\n",
        "4. HAVING句\n",
        "\n",
        "SELECT句で集計処理したSUM関数の結果などをWHERE句で絞り込みに使えない理由は上記の実行順序が理由です。  \n",
        "（同様にSELECT句でASによって列エイリアスした列名をWHERE句で参照できないのもこれが理由です）\n",
        "\n",
        "```sql\n",
        "select num as numnum\n",
        "from (select 1 as num)\n",
        "where numnum > 1 // Error! Unrecognized name: numnum\n",
        "```\n",
        "\n"
      ]
    },
    {
      "cell_type": "code",
      "execution_count": null,
      "metadata": {
        "id": "5leC3YfboTKp"
      },
      "outputs": [],
      "source": [
        "%%bigquery\n"
      ]
    },
    {
      "cell_type": "code",
      "execution_count": null,
      "metadata": {
        "id": "12CaQN-k8beH"
      },
      "outputs": [],
      "source": [
        "#@title 解答 {display-mode: \"form\"}\n",
        "\n",
        "\n",
        "%%bigquery\n",
        "select\n",
        "  *\n",
        "from\n",
        "  (select\n",
        "    province_state,\n",
        "    confirmed,\n",
        "    rank() over (order by confirmed desc) as rank\n",
        "  from\n",
        "   bigquery-public-data.covid19_jhu_csse.summary\n",
        "  where\n",
        "    country_region = 'Canada'\n",
        "    and date = '2020-03-31'\n",
        "  )\n",
        "where\n",
        "  rank <= 3\n",
        "\n",
        "order by\n",
        "  rank"
      ]
    },
    {
      "cell_type": "code",
      "execution_count": null,
      "metadata": {
        "id": "3RXMYk85lqqP"
      },
      "outputs": [],
      "source": [
        "#@title 解答その2 {display-mode: \"form\"}\n",
        "\n",
        "%%bigquery\n",
        "select\n",
        "  province_state,\n",
        "  confirmed,\n",
        "  rank() over (order by confirmed desc) as rank\n",
        "from\n",
        "   bigquery-public-data.covid19_jhu_csse.summary\n",
        "where\n",
        "  country_region = 'Canada'\n",
        "  and date = '2020-03-31'\n",
        "# 上位3件に絞り込むだけならorder byとlimitの組み合わせでも実現できます\n",
        "# 一般に分析関数の結果をフィルタリングの条件に利用したい場合は前述の解答のようにサブクエリを一度経由する必要があります\n",
        "order by rank\n",
        "limit 3"
      ]
    },
    {
      "cell_type": "markdown",
      "metadata": {
        "id": "_y0Wu1aQk_qg"
      },
      "source": [
        "### おまけ: 分析関数の利用を楽にするQUALIFY句"
      ]
    },
    {
      "cell_type": "markdown",
      "metadata": {
        "id": "on3IlQqnlFKW"
      },
      "source": [
        "問3では分析関数の結果をフィルタリングする必要がありました。\n",
        "\n",
        "```sql\n",
        "select\n",
        "  *\n",
        "from\n",
        "  (select\n",
        "    province_state,\n",
        "    confirmed,\n",
        "    rank() over (order by confirmed desc) as rank\n",
        "  from\n",
        "   bigquery-public-data.covid19_jhu_csse.summary\n",
        "  where\n",
        "    country_region = 'Canada'\n",
        "    and date = '2020-03-31'\n",
        "  )\n",
        "where\n",
        "  rank <= 3\n",
        "```\n",
        "\n",
        "Google SQLでは[QUALIFY句](https://cloud.google.com/bigquery/docs/reference/standard-sql/query-syntax#qualify_clause)を利用することでサブクエリを利用しなくても分析関数の結果をフィルタリングすることができます。\n",
        "\n",
        "```sql\n",
        "select\n",
        "  province_state,\n",
        "  confirmed,\n",
        "  rank() over (order by confirmed desc) as rank\n",
        "from\n",
        "   bigquery-public-data.covid19_jhu_csse.summary\n",
        "where\n",
        "  country_region = 'Canada'\n",
        "  and date = '2020-03-31'\n",
        "qualify -- NEW\n",
        "  rank <= 3\n",
        "```\n",
        "\n",
        "分析関数の結果をフィルタリングのみに利用したいならselect句ではなくqualify句で分析関数を呼び出すことでよりスッキリとしたクエリが書けそうですね :+1:\n",
        "\n",
        "```sql\n",
        "select\n",
        "  province_state,\n",
        "  confirmed,\n",
        "from\n",
        "   bigquery-public-data.covid19_jhu_csse.summary\n",
        "where\n",
        "  country_region = 'Canada'\n",
        "  and date = '2020-03-31'\n",
        "qualify -- NEW\n",
        "  rank() over (order by confirmed desc) <= 3\n",
        "```"
      ]
    },
    {
      "cell_type": "markdown",
      "metadata": {
        "id": "TFmxZC9ly1sZ"
      },
      "source": [
        "### 付録: BigQueryにおける大規模データの取り扱いについて"
      ]
    },
    {
      "cell_type": "markdown",
      "metadata": {
        "id": "wqS1Dwouy4gP"
      },
      "source": [
        "テラバイト級以上のデータを取り扱う際は全てのデータ（レコード）が集計対象ではないことはしばしばあります。  \n",
        "（2020年以降のデータを対象として集計したいなど）\n",
        "\n",
        "BigQueryにおいては[パーティショニング](https://cloud.google.com/bigquery/docs/partitioned-tables?hl=ja)を利用することで課金対象となるデータスキャン量を減らし、クエリのパフォーマンスを改善させることができます。\n",
        "\n",
        "パーティショニングはあるカラムの値をキーとして物理的に異なる場所へレコードを振り分けることにより、そのカラムでフィルタリングしたときにスキャン対象となるレコードを制限させることができます。（シャーディングに近いですがテーブル自体が複数できるわけではありません）\n",
        "\n",
        "先ほど作成した `tmp.pivot_stack` テーブルを使ってパーティショニングの効果を確認してみましょう。  \n",
        "注）サンドボックス環境ではパーティショニングを有効化したデータ入テーブルを作成できなかったのであらかじめセルの実行結果表示させています。"
      ]
    },
    {
      "cell_type": "code",
      "execution_count": null,
      "metadata": {
        "id": "m0RZNtYxy70o"
      },
      "outputs": [],
      "source": [
        "%%bigquery\n",
        "-- まずはbigquery-public-data.covid19_jhu_csse.summaryのテーブルデータをおさらいします。\n",
        "select\n",
        "  min(date) min_date,\n",
        "  max(date) max_date,\n",
        "  count(distinct date) count_date,\n",
        "  count(distinct country_region) uniq_country_region,\n",
        "  count(distinct province_state) uniq_province_state,\n",
        "from\n",
        "  bigquery-public-data.covid19_jhu_csse.summary"
      ]
    },
    {
      "cell_type": "markdown",
      "metadata": {
        "id": "5_0PNKuby9v6"
      },
      "source": [
        "dateカラムでパーティショニングすることで時系列分析を行う際のデータスキャン量（≠パフォーマンス）を減らすことができそうです。\n",
        "\n",
        "まずはパーティショニングを有効化したテーブルを作成してみましょう\n",
        "\n",
        "**※下のクエリは動きますが、意図した結果にはなりません🙇**\n",
        "パーティショニングをしたテーブルが出来上がりますが、テーブルのパーティションの有効期限のデフォルトが60日であり、データを投入してもすぐデータが削除されてしまいます。"
      ]
    },
    {
      "cell_type": "code",
      "execution_count": null,
      "metadata": {
        "id": "OSPFuex1y_EG"
      },
      "outputs": [],
      "source": [
        "bigquery -- 実行させないようにわざとコメントアウト ↑を確認してください。\n",
        "\n",
        "create schema if not exists tmp;\n",
        "\n",
        "create or replace table tmp.partitioned_table\n",
        "partition by date -- パーティショニングに利用するカラムをpartition byで指定.\n",
        "as\n",
        "select\n",
        "  *\n",
        "from\n",
        "  bigquery-public-data.covid19_jhu_csse.summary"
      ]
    },
    {
      "cell_type": "code",
      "execution_count": null,
      "metadata": {
        "id": "NB_-6RdxfBVO"
      },
      "outputs": [],
      "source": [
        "%%bigquery\n",
        "SELECT * FROM `bigquery-public-data.covid19_jhu_csse.summary`;"
      ]
    },
    {
      "cell_type": "markdown",
      "metadata": {
        "id": "3DEA85dKzBxK"
      },
      "source": [
        "さっそくパーティショニングした場合としていない場合のクエリのパフォーマンスを見てみます。\n",
        "\n",
        "2023年以降で観測された感染者数が最小だった地域を出力してみるクエリです。\n"
      ]
    },
    {
      "cell_type": "code",
      "execution_count": null,
      "metadata": {
        "id": "q7FBnirezSqo"
      },
      "outputs": [],
      "source": [
        "%%bigquery\n",
        "-- パーティショニングなし\n",
        "select date, confirmed, country_region, province_state\n",
        "from `bigquery-public-data.covid19_jhu_csse.summary` as ps\n",
        "where date >= '2023-01-01'\n",
        "  and confirmed > 0\n",
        "qualify\n",
        "  row_number() over(order by confirmed) = 1"
      ]
    },
    {
      "cell_type": "code",
      "execution_count": null,
      "metadata": {
        "id": "MbMQVbgozaZd"
      },
      "outputs": [],
      "source": [
        "%%bigquery\n",
        "-- パーティショニングあり\n",
        "select date, confirmed, country_region, province_state\n",
        "from tmp.pivot_stack_partitioned as psp\n",
        "where date >= '2023-01-01'\n",
        "  and confirmed > 0\n",
        "qualify\n",
        "  row_number() over(order by confirmed) = 1"
      ]
    },
    {
      "cell_type": "markdown",
      "metadata": {
        "id": "XXOZvpa31Cbi"
      },
      "source": [
        "`INFORMATION_SCHEMA.JOBS_BY_USER` テーブルを利用することでこれまでユーザーが発行したクエリジョブの履歴と統計情報を参照できます。\n",
        "\n",
        "（BigQueryのWebUIにおいては画面下にあるJob Historyからも同様の情報を参照できます）"
      ]
    },
    {
      "cell_type": "code",
      "execution_count": null,
      "metadata": {
        "id": "B4phGXLNzXyI"
      },
      "outputs": [],
      "source": [
        "%%bigquery\n",
        "select\n",
        "  creation_time,\n",
        "  query,\n",
        "  total_bytes_processed,\n",
        "  total_slot_ms,\n",
        "  cache_hit\n",
        "from region-us.INFORMATION_SCHEMA.JOBS_BY_USER\n",
        "where query like '%from bigquery-public-data.covid19_jhu_csse.summary as ps%'\n",
        "order by creation_time desc\n",
        "limit 1"
      ]
    },
    {
      "cell_type": "code",
      "execution_count": null,
      "metadata": {
        "id": "7ikC-ITWzcyu"
      },
      "outputs": [],
      "source": [
        "%%bigquery\n",
        "select\n",
        "  creation_time,\n",
        "  query,\n",
        "  total_bytes_processed,\n",
        "  total_slot_ms,\n",
        "  cache_hit\n",
        "from region-us.INFORMATION_SCHEMA.JOBS_BY_USER\n",
        "where query like '%from tmp.pivot_stack_partitioned as psp%'\n",
        "order by creation_time desc\n",
        "limit 1"
      ]
    },
    {
      "cell_type": "markdown",
      "metadata": {
        "id": "0INRW8lW1ZbI"
      },
      "source": [
        "パーティショニングなしのテーブルに対するクエリでは4030218bytes（約4MB)スキャンしていたのに対して、パーティショニングありのテーブルに対するクエリでは約16分の1である239768\t（約0.2MB）のスキャンに抑えることができました。\n",
        "\n",
        "```\n",
        "4030218.0 / 239768.0\n",
        "=> 16.808823529411764\n",
        "```\n",
        "\n",
        "この16分の1という削減できたデータスキャンサイズの割合は今回のテーブルにおける全体のレコード数に占める2023年以降のレコード数の割合と一致しています。"
      ]
    },
    {
      "cell_type": "code",
      "execution_count": null,
      "metadata": {
        "id": "6Fki7fqp2tj7"
      },
      "outputs": [],
      "source": [
        "%%bigquery\n",
        "select\n",
        "  count(*) record_num,\n",
        "  count(case when date >= '2023-01-01' then 1 end) record_num_2023,\n",
        "  count(*) / count(case when date >= '2023-01-01' then 1 end)\n",
        "from\n",
        "  bigquery-public-data.covid19_jhu_csse.summary"
      ]
    },
    {
      "cell_type": "markdown",
      "metadata": {
        "id": "tgYD5vS14eQY"
      },
      "source": [
        "パーティショニングをうまく使うことでデータのスキャンサイズを削減できることがわかりました。  \n",
        "On-demand pricingを課金体系として設定している場合、データのスキャンサイズ削減がそのままコンピューティング料金のコスト削減につながるので、テーブルのアクセスパターン・ユースケースに応じてうまくパーティショニングを活用しましょう :+1:\n",
        "\n",
        "（ちなみにパーティショニング有りのテーブルでは逆にSlot消費量が増えていることにお気づきでしょうか。  \n",
        "今回のユースケースではデータのスキャンサイズを削減することには成功しましたが同じデータを処理するために必要なvCPUは多くなったしまったようです。\n",
        "パーティショニングを設定する際は何を目的としてどのようなアクセスパターンを効率化させたいかを考えたうえでパーティショニング採用の有無、パーティショニングに利用するカラムを考えると良いかもしれません）\n"
      ]
    },
    {
      "cell_type": "markdown",
      "metadata": {
        "id": "gRQaLydW9mut"
      },
      "source": [
        "## 片付け"
      ]
    },
    {
      "cell_type": "markdown",
      "metadata": {
        "id": "pWe5ENlsI8vf"
      },
      "source": [
        "演習が終わったら片付けをしましょう。  \n",
        "\n",
        "```\n",
        "Do you want to continue (Y/n)?\n",
        "```\n",
        "\n",
        "見えづらいですが上記アウトプットの横にテキストボックスが存在するので、`Y` を入力してエンターキーを押すことで削除が可能です。  \n",
        "以下のようなメッセージが出力されたら削除完了です。\n",
        "\n",
        "```\n",
        "Deleted [https://cloudresourcemanager.googleapis.com/v1/projects/<your_deleted_project_id>].\n",
        "\n",
        "You can undo this operation for a limited period by running the command below.\n",
        "    $ gcloud projects undelete <your_deleted_project_id>\n",
        "\n",
        "See https://cloud.google.com/resource-manager/docs/creating-managing-projects for information on shutting down projects.\n",
        "```\n",
        "\n",
        "再び演習を行いたい場合は `設定` を行って新たなGCPプロジェクトを作成してください。"
      ]
    },
    {
      "cell_type": "markdown",
      "metadata": {
        "id": "ezSm1h5b8yUE"
      },
      "source": [
        "### GCPプロジェクトの削除"
      ]
    },
    {
      "cell_type": "code",
      "execution_count": null,
      "metadata": {
        "id": "UKhK_kZZGTsT"
      },
      "outputs": [],
      "source": [
        "! echo PROJECT_ID: {PROJECT_ID}\n",
        "! gcloud projects delete {PROJECT_ID}"
      ]
    },
    {
      "cell_type": "markdown",
      "metadata": {
        "id": "6rLtUlVEH0N6"
      },
      "source": [
        "## おまけ"
      ]
    },
    {
      "cell_type": "markdown",
      "metadata": {
        "id": "O0JSX3kweM_4"
      },
      "source": [
        "### Colab TIPS: ツールバーにコーギーや猫を表示するには 🐶🐱\n",
        "\n",
        "[ツール] => [設定] => [その他] で [コーギーモード] ( [猫モード] ) を有効化すると、ツールバー上でコーギー (猫) が走ります。\n",
        "\n",
        "![image.png](data:image/png;base64,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)"
      ]
    }
  ],
  "metadata": {
    "colab": {
      "provenance": [],
      "toc_visible": true
    },
    "kernelspec": {
      "display_name": "Python 3",
      "name": "python3"
    }
  },
  "nbformat": 4,
  "nbformat_minor": 0
}
